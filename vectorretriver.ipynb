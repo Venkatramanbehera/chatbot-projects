{
 "cells": [
  {
   "cell_type": "markdown",
   "metadata": {},
   "source": [
    "### Documents, Vector Stores and Retrievers"
   ]
  },
  {
   "cell_type": "markdown",
   "metadata": {},
   "source": [
    "### Documents\n",
    "Langchain implements a Document abstration, which is intended to represented a unit of text and associated metadata. It has two attributes:\n",
    "\n",
    "- page_content: a string representing content;\n",
    "- metadat: a dict containing arbitarary metadata.\n",
    "The metadata attribute can capture information about the source of the document, its relationship to other documents, ans\n",
    "other information. Note that an individual Document object often represents a chunk of larger document.\n",
    "\n",
    "Lets genarate some simple documents:"
   ]
  },
  {
   "cell_type": "code",
   "execution_count": 1,
   "metadata": {},
   "outputs": [],
   "source": [
    "from langchain_core.documents import Document\n",
    "\n",
    "documents = [\n",
    "    Document(\n",
    "        page_content=\"The quick brown fox jumps over the lazy dog.\",\n",
    "        metadata={\"source\": \"storybook\", \"page\": 1}\n",
    "    ),\n",
    "    Document(\n",
    "        page_content=\"In 2025, AI systems continue to transform industries worldwide.\",\n",
    "        metadata={\"source\": \"tech_report\", \"year\": 2025}\n",
    "    ),\n",
    "    Document(\n",
    "        page_content=\"Photosynthesis converts light energy into chemical energy in plants.\",\n",
    "        metadata={\"source\": \"biology_textbook\", \"chapter\": 3}\n",
    "    ),\n",
    "    Document(\n",
    "        page_content=\"To be or not to be, that is the question.\",\n",
    "        metadata={\"source\": \"shakespeare\", \"work\": \"Hamlet\"}\n",
    "    ),\n",
    "    Document(\n",
    "        page_content=\"E = mc^2 is one of the most famous equations in physics.\",\n",
    "        metadata={\"source\": \"physics_notes\", \"author\": \"Einstein\"}\n",
    "    )\n",
    "]"
   ]
  },
  {
   "cell_type": "code",
   "execution_count": 2,
   "metadata": {},
   "outputs": [
    {
     "data": {
      "text/plain": [
       "[Document(metadata={'source': 'storybook', 'page': 1}, page_content='The quick brown fox jumps over the lazy dog.'),\n",
       " Document(metadata={'source': 'tech_report', 'year': 2025}, page_content='In 2025, AI systems continue to transform industries worldwide.'),\n",
       " Document(metadata={'source': 'biology_textbook', 'chapter': 3}, page_content='Photosynthesis converts light energy into chemical energy in plants.'),\n",
       " Document(metadata={'source': 'shakespeare', 'work': 'Hamlet'}, page_content='To be or not to be, that is the question.'),\n",
       " Document(metadata={'source': 'physics_notes', 'author': 'Einstein'}, page_content='E = mc^2 is one of the most famous equations in physics.')]"
      ]
     },
     "execution_count": 2,
     "metadata": {},
     "output_type": "execute_result"
    }
   ],
   "source": [
    "documents"
   ]
  },
  {
   "cell_type": "code",
   "execution_count": 8,
   "metadata": {},
   "outputs": [
    {
     "data": {
      "text/plain": [
       "ChatGroq(client=<groq.resources.chat.completions.Completions object at 0x119d21900>, async_client=<groq.resources.chat.completions.AsyncCompletions object at 0x1187de4d0>, model_name='Llama3-8b-8192', model_kwargs={}, groq_api_key=SecretStr('**********'))"
      ]
     },
     "execution_count": 8,
     "metadata": {},
     "output_type": "execute_result"
    }
   ],
   "source": [
    "import os\n",
    "from dotenv import load_dotenv\n",
    "load_dotenv()\n",
    "\n",
    "from langchain_groq import ChatGroq\n",
    "\n",
    "groq_api_key = os.getenv('GROQ_API_KEY')\n",
    "os.environ[\"HF_TOKEN\"] = os.getenv('HF_TOKEN')\n",
    "\n",
    "llm = ChatGroq(model='Llama3-8b-8192', groq_api_key=groq_api_key)\n",
    "llm"
   ]
  },
  {
   "cell_type": "code",
   "execution_count": 11,
   "metadata": {},
   "outputs": [
    {
     "name": "stderr",
     "output_type": "stream",
     "text": [
      "/Users/chiku/miniforge3/envs/chatbot/lib/python3.10/site-packages/tqdm/auto.py:21: TqdmWarning: IProgress not found. Please update jupyter and ipywidgets. See https://ipywidgets.readthedocs.io/en/stable/user_install.html\n",
      "  from .autonotebook import tqdm as notebook_tqdm\n"
     ]
    }
   ],
   "source": [
    "from langchain_huggingface import HuggingFaceEmbeddings\n",
    "\n",
    "embddings = HuggingFaceEmbeddings(model_name=\"all-MiniLM-L6-v2\")"
   ]
  },
  {
   "cell_type": "code",
   "execution_count": 12,
   "metadata": {},
   "outputs": [
    {
     "data": {
      "text/plain": [
       "<langchain_chroma.vectorstores.Chroma at 0x119dffc40>"
      ]
     },
     "execution_count": 12,
     "metadata": {},
     "output_type": "execute_result"
    }
   ],
   "source": [
    "## vector store\n",
    "from langchain_chroma import Chroma\n",
    "\n",
    "vectorstore = Chroma.from_documents(documents, embedding=embddings)\n",
    "\n",
    "vectorstore"
   ]
  },
  {
   "cell_type": "code",
   "execution_count": 13,
   "metadata": {},
   "outputs": [
    {
     "data": {
      "text/plain": [
       "[Document(id='793fb4a8-753e-4cc6-946c-c245d21471e7', metadata={'source': 'biology_textbook', 'chapter': 3}, page_content='Photosynthesis converts light energy into chemical energy in plants.'),\n",
       " Document(id='f8641976-0138-4aa6-8e0d-6fb656c77f07', metadata={'author': 'Einstein', 'source': 'physics_notes'}, page_content='E = mc^2 is one of the most famous equations in physics.'),\n",
       " Document(id='301a6a11-8d81-441c-a633-214c018eb715', metadata={'source': 'shakespeare', 'work': 'Hamlet'}, page_content='To be or not to be, that is the question.'),\n",
       " Document(id='8398a4ac-3598-4863-9be8-12adcc7a00a3', metadata={'page': 1, 'source': 'storybook'}, page_content='The quick brown fox jumps over the lazy dog.')]"
      ]
     },
     "execution_count": 13,
     "metadata": {},
     "output_type": "execute_result"
    }
   ],
   "source": [
    "vectorstore.similarity_search(\"Photosynthesis\")"
   ]
  },
  {
   "cell_type": "code",
   "execution_count": 15,
   "metadata": {},
   "outputs": [
    {
     "data": {
      "text/plain": [
       "[Document(id='793fb4a8-753e-4cc6-946c-c245d21471e7', metadata={'chapter': 3, 'source': 'biology_textbook'}, page_content='Photosynthesis converts light energy into chemical energy in plants.'),\n",
       " Document(id='f8641976-0138-4aa6-8e0d-6fb656c77f07', metadata={'source': 'physics_notes', 'author': 'Einstein'}, page_content='E = mc^2 is one of the most famous equations in physics.'),\n",
       " Document(id='301a6a11-8d81-441c-a633-214c018eb715', metadata={'work': 'Hamlet', 'source': 'shakespeare'}, page_content='To be or not to be, that is the question.'),\n",
       " Document(id='8398a4ac-3598-4863-9be8-12adcc7a00a3', metadata={'page': 1, 'source': 'storybook'}, page_content='The quick brown fox jumps over the lazy dog.')]"
      ]
     },
     "execution_count": 15,
     "metadata": {},
     "output_type": "execute_result"
    }
   ],
   "source": [
    "await vectorstore.asimilarity_search(\"Photosynthesis\")"
   ]
  },
  {
   "cell_type": "code",
   "execution_count": 16,
   "metadata": {},
   "outputs": [
    {
     "data": {
      "text/plain": [
       "[(Document(id='793fb4a8-753e-4cc6-946c-c245d21471e7', metadata={'source': 'biology_textbook', 'chapter': 3}, page_content='Photosynthesis converts light energy into chemical energy in plants.'),\n",
       "  0.44923925399780273),\n",
       " (Document(id='f8641976-0138-4aa6-8e0d-6fb656c77f07', metadata={'source': 'physics_notes', 'author': 'Einstein'}, page_content='E = mc^2 is one of the most famous equations in physics.'),\n",
       "  1.7091107368469238),\n",
       " (Document(id='301a6a11-8d81-441c-a633-214c018eb715', metadata={'source': 'shakespeare', 'work': 'Hamlet'}, page_content='To be or not to be, that is the question.'),\n",
       "  1.849722981452942),\n",
       " (Document(id='8398a4ac-3598-4863-9be8-12adcc7a00a3', metadata={'page': 1, 'source': 'storybook'}, page_content='The quick brown fox jumps over the lazy dog.'),\n",
       "  1.9243714809417725)]"
      ]
     },
     "execution_count": 16,
     "metadata": {},
     "output_type": "execute_result"
    }
   ],
   "source": [
    "vectorstore.similarity_search_with_score(\"Photosynthesis\")"
   ]
  },
  {
   "cell_type": "code",
   "execution_count": 17,
   "metadata": {},
   "outputs": [
    {
     "data": {
      "text/plain": [
       "[[Document(id='793fb4a8-753e-4cc6-946c-c245d21471e7', metadata={'source': 'biology_textbook', 'chapter': 3}, page_content='Photosynthesis converts light energy into chemical energy in plants.')],\n",
       " [Document(id='8398a4ac-3598-4863-9be8-12adcc7a00a3', metadata={'source': 'storybook', 'page': 1}, page_content='The quick brown fox jumps over the lazy dog.')]]"
      ]
     },
     "execution_count": 17,
     "metadata": {},
     "output_type": "execute_result"
    }
   ],
   "source": [
    "### retrivers\n",
    "\n",
    "from typing import List\n",
    "\n",
    "from langchain_core.documents import Document\n",
    "from langchain_core.runnables import RunnableLambda\n",
    "\n",
    "retriver = RunnableLambda(vectorstore.similarity_search).bind(k=1)\n",
    "retriver.batch([\"Photosynthesis\", \"dog\"])"
   ]
  },
  {
   "cell_type": "code",
   "execution_count": 19,
   "metadata": {},
   "outputs": [
    {
     "data": {
      "text/plain": [
       "[[Document(id='793fb4a8-753e-4cc6-946c-c245d21471e7', metadata={'chapter': 3, 'source': 'biology_textbook'}, page_content='Photosynthesis converts light energy into chemical energy in plants.')],\n",
       " [Document(id='8398a4ac-3598-4863-9be8-12adcc7a00a3', metadata={'source': 'storybook', 'page': 1}, page_content='The quick brown fox jumps over the lazy dog.')]]"
      ]
     },
     "execution_count": 19,
     "metadata": {},
     "output_type": "execute_result"
    }
   ],
   "source": [
    "retriver = vectorstore.as_retriever(\n",
    "    search_type=\"similarity\",\n",
    "    search_kwargs={\"k\":1}\n",
    ")\n",
    "\n",
    "retriver.batch([\"Photosynthesis\", \"dog\"])"
   ]
  },
  {
   "cell_type": "code",
   "execution_count": 22,
   "metadata": {},
   "outputs": [
    {
     "name": "stdout",
     "output_type": "stream",
     "text": [
      "According to the provided context, Photosynthesis converts light energy into chemical energy in plants.\n"
     ]
    }
   ],
   "source": [
    "from langchain_core.prompts import ChatPromptTemplate\n",
    "from langchain_core.runnables import RunnablePassthrough\n",
    "\n",
    "message = \"\"\"\n",
    "Answer the question using the provided context only.\n",
    "\n",
    "{question}\n",
    "\n",
    "context\n",
    "{context}\n",
    "\"\"\"\n",
    "\n",
    "prompt = ChatPromptTemplate.from_messages([\"human\", message])\n",
    "\n",
    "rag_chain = { \"context\": retriver, \"question\": RunnablePassthrough() } | prompt | llm\n",
    "\n",
    "response = rag_chain.invoke(\"tell me about Photosynthesis\")\n",
    "\n",
    "print(response.content)"
   ]
  },
  {
   "cell_type": "code",
   "execution_count": null,
   "metadata": {},
   "outputs": [],
   "source": []
  }
 ],
 "metadata": {
  "kernelspec": {
   "display_name": "chatbot",
   "language": "python",
   "name": "python3"
  },
  "language_info": {
   "codemirror_mode": {
    "name": "ipython",
    "version": 3
   },
   "file_extension": ".py",
   "mimetype": "text/x-python",
   "name": "python",
   "nbconvert_exporter": "python",
   "pygments_lexer": "ipython3",
   "version": "3.10.18"
  }
 },
 "nbformat": 4,
 "nbformat_minor": 2
}
